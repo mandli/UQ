{
 "cells": [
  {
   "cell_type": "code",
   "execution_count": null,
   "metadata": {},
   "outputs": [],
   "source": [
    "%matplotlib inline\n",
    "import matplotlib.pyplot as plt\n",
    "#from IPython.display import Image\n",
    "import numpy as np"
   ]
  },
  {
   "cell_type": "markdown",
   "metadata": {},
   "source": [
    "# Example 10.12"
   ]
  },
  {
   "cell_type": "code",
   "execution_count": null,
   "metadata": {},
   "outputs": [],
   "source": [
    "def e_ink(i,n,k):\n",
    "    s2 = i + n + k\n",
    "    s = (i + n + k)/2\n",
    "    if np.mod(s2,2)==1:\n",
    "        f = 0\n",
    "    elif ((s<i) | (s<n) | (s<k)):\n",
    "        f = 0\n",
    "    else:\n",
    "        f = np.math.factorial(i)*np.math.factorial(n)*np.math.factorial(k)/np.math.factorial(s-i)/np.math.factorial(s-n)/np.math.factorial(s-k)\n",
    "    return f"
   ]
  },
  {
   "cell_type": "code",
   "execution_count": null,
   "metadata": {},
   "outputs": [],
   "source": [
    "K = 6\n",
    "abar = 2\n",
    "sigma_a = 0.25\n",
    "J = 20\n",
    "h = 2/J\n",
    "xj = -1 + np.arange(1,J)*h"
   ]
  },
  {
   "cell_type": "code",
   "execution_count": null,
   "metadata": {},
   "outputs": [],
   "source": [
    "f = np.zeros(J-1)\n",
    "rhs = np.zeros((K+1,J-1))"
   ]
  },
  {
   "cell_type": "code",
   "execution_count": null,
   "metadata": {},
   "outputs": [],
   "source": [
    "for ll in range(1, J):\n",
    "    f[ll-1] = h\n",
    "    for ii in range(0,K+1):\n",
    "        rhs[ii,ll-1] = f[ll-1]*(ii==0)\n",
    "plt.pcolor(rhs)"
   ]
  },
  {
   "cell_type": "code",
   "execution_count": null,
   "metadata": {},
   "outputs": [],
   "source": [
    "Phi = np.zeros((J-1,J-1))\n",
    "for jj in range(1,J):\n",
    "    for ll in range(1,J):\n",
    "        Phi[jj-1,ll-1] = ( 2*(jj==ll) -1*(jj==(ll-1)) -1*(jj==(ll+1)) )/h;\n",
    "plt.pcolor(Phi)"
   ]
  },
  {
   "cell_type": "code",
   "execution_count": null,
   "metadata": {},
   "outputs": [],
   "source": [
    "term = np.zeros((K+1,K+1))\n",
    "for kk in range(0,K+1):\n",
    "    for ii in range(0,K+1):\n",
    "        term[kk,ii] = abar*e_ink(0,kk,ii) + sigma_a*e_ink(1,kk,ii);\n",
    "plt.pcolor(term>0)"
   ]
  },
  {
   "cell_type": "code",
   "execution_count": null,
   "metadata": {},
   "outputs": [],
   "source": [
    "AAA = np.zeros((J-1,K+1,J-1,K+1))\n",
    "AAA = np.zeros((K+1,J-1,K+1,J-1,))\n",
    "for ll in range(1,J):\n",
    "    for ii in range (0,K+1):\n",
    "        for jj in range (1,J):\n",
    "            for kk in range(0,K+1):\n",
    "                AAA[kk,jj-1,ii,ll-1] = Phi[jj-1,ll-1]*term[kk,ii]\n",
    "AAA=AAA.reshape(((J-1)*(K+1),(J-1)*(K+1)))"
   ]
  },
  {
   "cell_type": "code",
   "execution_count": null,
   "metadata": {},
   "outputs": [],
   "source": [
    "plt.pcolor(AAA>0)"
   ]
  },
  {
   "cell_type": "code",
   "execution_count": null,
   "metadata": {},
   "outputs": [],
   "source": [
    "from numpy.linalg import inv\n",
    "g=np.dot(inv(AAA),rhs.reshape((J-1)*(K+1)))\n",
    "g=g.reshape((K+1,J-1))"
   ]
  },
  {
   "cell_type": "code",
   "execution_count": null,
   "metadata": {},
   "outputs": [],
   "source": [
    "M = g[0,:]\n",
    "gamma = np.zeros(K+1)\n",
    "for i in range(K+1):\n",
    "    gamma[i] = np.math.factorial(i)\n",
    "gamma=gamma.reshape(K+1,1)\n",
    "v = np.sum(gamma[1:]*g[1:,:]**2,axis=0)\n",
    "v.shape"
   ]
  },
  {
   "cell_type": "code",
   "execution_count": null,
   "metadata": {},
   "outputs": [],
   "source": [
    "a = np.random.normal(abar,sigma_a,100)\n",
    "xj = xj.reshape(J-1,1)\n",
    "trajectories = -1./a/2*(xj-1)*(xj+1)"
   ]
  },
  {
   "cell_type": "code",
   "execution_count": null,
   "metadata": {},
   "outputs": [],
   "source": [
    "plt.plot(xj,trajectories,color='gray')\n",
    "plt.plot(xj,M,color='red',label='mean')\n",
    "plt.plot(xj,M + 2*np.sqrt(v),color='blue',label='+/- 2\\sigma')\n",
    "plt.plot(xj,M - 2*np.sqrt(v),color='blue')\n",
    "plt.legend(loc=\"upper right\")"
   ]
  },
  {
   "cell_type": "code",
   "execution_count": null,
   "metadata": {},
   "outputs": [],
   "source": []
  }
 ],
 "metadata": {
  "kernelspec": {
   "display_name": "Python 3",
   "language": "python",
   "name": "python3"
  },
  "language_info": {
   "codemirror_mode": {
    "name": "ipython",
    "version": 3
   },
   "file_extension": ".py",
   "mimetype": "text/x-python",
   "name": "python",
   "nbconvert_exporter": "python",
   "pygments_lexer": "ipython3",
   "version": "3.6.8"
  }
 },
 "nbformat": 4,
 "nbformat_minor": 2
}
