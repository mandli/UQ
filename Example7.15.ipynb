{
 "cells": [
  {
   "cell_type": "markdown",
   "metadata": {},
   "source": [
    "__Example 7.15.__(Smith) Consider the spring model\n",
    "\n",
    "$\\ddot{z} + C\\dot{z} + Kz = 0$\n",
    "\n",
    "$z(0) = 2$, $\\dot{z}(0) = -C$\n",
    "\n",
    "with displacement observations so that\n",
    "\n",
    "$y = \\begin{bmatrix} 1 & 0 \\end{bmatrix} \\begin{bmatrix} z \\\\ \\dot{z} \\end{bmatrix} = z$.\n",
    "\n",
    "The solution is \n",
    "\n",
    "$z(t) = 2e^{-Ct/2}\\cos{\\left( \\sqrt{K-C^2/4} t\\right)}$.\n",
    "\n",
    "Suppose that $C$ is unknown. $q=C$ and $p=1$."
   ]
  },
  {
   "cell_type": "code",
   "execution_count": null,
   "metadata": {},
   "outputs": [],
   "source": [
    "%matplotlib inline\n",
    "import matplotlib.pyplot as plt\n",
    "#from IPython.display import Image\n",
    "from scipy import stats\n",
    "import numpy as np"
   ]
  },
  {
   "cell_type": "code",
   "execution_count": null,
   "metadata": {},
   "outputs": [],
   "source": [
    "K = 20.5 # known\n",
    "C0 = 1.5 #<---- fixed but unknown value \n",
    "p = 1 #number of unknown parameters"
   ]
  },
  {
   "cell_type": "code",
   "execution_count": null,
   "metadata": {},
   "outputs": [],
   "source": [
    "def f(t,C,K):\n",
    "    # Closed form solution at time t for parameters C and K\n",
    "    return 2*np.exp(-C*t/2)*np.cos(np.sqrt(K-C**2/4)*t)"
   ]
  },
  {
   "cell_type": "markdown",
   "metadata": {},
   "source": [
    "### Generate \"observations\" $y$ and plot them"
   ]
  },
  {
   "cell_type": "code",
   "execution_count": null,
   "metadata": {},
   "outputs": [],
   "source": [
    "n = 501 #number of observations\n",
    "t = np.linspace(0, 5, n) #\n",
    "ytrue = f(t,C0,K)\n",
    "sigma = 0.1 #<-------- true noise\n",
    "y = ytrue + np.random.normal(0, sigma, n)\n",
    "fig, ax  = plt.subplots()\n",
    "ax.plot(t,ytrue);\n",
    "ax.plot(t, y,'ro',markersize=1)\n",
    "plt.xlabel('Time'),plt.ylabel('displacement')\n",
    "plt.legend(['Truth','Observations'])"
   ]
  },
  {
   "cell_type": "markdown",
   "metadata": {},
   "source": [
    "### Find the C that minimizes the sum squared error"
   ]
  },
  {
   "cell_type": "code",
   "execution_count": null,
   "metadata": {},
   "outputs": [],
   "source": [
    "def SSE(C,y):\n",
    "    return sum( (f(t,C,K)-y)**2 )"
   ]
  },
  {
   "cell_type": "code",
   "execution_count": null,
   "metadata": {},
   "outputs": [],
   "source": [
    "from scipy import optimize\n",
    "C_OLS=optimize.fmin(SSE,1,args=(y,))\n",
    "C_OLS"
   ]
  },
  {
   "cell_type": "markdown",
   "metadata": {},
   "source": [
    "#### Residules"
   ]
  },
  {
   "cell_type": "code",
   "execution_count": null,
   "metadata": {},
   "outputs": [],
   "source": [
    "fig, ax  = plt.subplots()\n",
    "ax.plot(t, f(t,C_OLS,K)-y,'.');\n",
    "plt.title('Residuals $\\hat\\epsilon$')"
   ]
  },
  {
   "cell_type": "markdown",
   "metadata": {},
   "source": [
    "#### Estimate error variance"
   ]
  },
  {
   "cell_type": "code",
   "execution_count": null,
   "metadata": {},
   "outputs": [],
   "source": [
    "sigma_hat = np.sqrt(SSE(C_OLS,y)/(n-p))\n",
    "sigma_hat"
   ]
  },
  {
   "cell_type": "markdown",
   "metadata": {},
   "source": [
    "Closed form for the elements of the sensitivity matrix $X$. (Here a vector because $p=1$)\n",
    "$$\\dfrac{\\partial y}{\\partial C} = e^{-C t/2} \\left[ \\dfrac{Ct}{\\sqrt{4K-C^2}} \\sin \\left( t \\sqrt{K - C^2/4}\\right) - t \\cos \\left( t \\sqrt{K - C^2/4}\\right) \\right]$$"
   ]
  },
  {
   "cell_type": "code",
   "execution_count": null,
   "metadata": {},
   "outputs": [],
   "source": [
    "C = C_OLS\n",
    "w = np.sqrt(K - C**2/4)\n",
    "X = np.exp(-C*t/2)*(C*t/np.sqrt(4*K-C**2)*np.sin(w*t)-t*np.cos(w*t))"
   ]
  },
  {
   "cell_type": "markdown",
   "metadata": {},
   "source": [
    "$V = \\sigma_C^2 = \\sigma_0^2 [ X(q)^T X(q) ]^{-1}$, $X(q) = \\left[ \\dfrac{\\partial y}{\\partial C} (t_1,q),\\dots,\\dfrac{\\partial y}{\\partial C} (t_N,q) \\right]^T$"
   ]
  },
  {
   "cell_type": "code",
   "execution_count": null,
   "metadata": {},
   "outputs": [],
   "source": [
    "V = sigma_hat**2/np.dot(X,X)\n",
    "np.sqrt(V)"
   ]
  },
  {
   "cell_type": "markdown",
   "metadata": {},
   "source": [
    "95% confidence interval is:"
   ]
  },
  {
   "cell_type": "code",
   "execution_count": null,
   "metadata": {},
   "outputs": [],
   "source": [
    "alpha = 0.05\n",
    "Interval_normal = C_OLS + stats.norm.ppf(1-alpha)*np.sqrt(V)*np.array([-1,1])\n",
    "Interval_t = C_OLS + stats.t.ppf(1-alpha,df=n-1)*np.sqrt(V)*np.array([-1,1])\n",
    "Interval_t, Interval_normal"
   ]
  },
  {
   "cell_type": "markdown",
   "metadata": {},
   "source": [
    "Note that the _interval_ is random. How often is the true value in the interval?\n",
    "If we repeat the problem (not possible in practice), we can check how often the true value is within the interval."
   ]
  },
  {
   "cell_type": "code",
   "execution_count": null,
   "metadata": {},
   "outputs": [],
   "source": [
    "mc = 1000\n",
    "Csamples = np.zeros(mc)\n",
    "InInterval = np.zeros(mc)\n",
    "Y = np.zeros((n,mc))\n",
    "for imc in range(0,mc):\n",
    "    ysample = f(t,C0,K) + np.random.normal(0, sigma, n)\n",
    "    Y[:,imc] = ysample\n",
    "    C = optimize.fmin(SSE,C_OLS,args=(ysample,),disp=0)\n",
    "    Csamples[imc] = C\n",
    "    sigma_hat = np.sqrt(SSE(C,ysample)/(n-p))\n",
    "    w = np.sqrt(K - C**2/4)\n",
    "    Xs = np.exp(-C*t/2)*(C*t/np.sqrt(4*K-C**2)*np.sin(w*t)+t*np.cos(w*t))\n",
    "    Vs = sigma_hat**2/np.dot(Xs,Xs)\n",
    "    InInterval[imc] = (C0 < C+1.96*np.sqrt(Vs)) & (C0 > C-1.96*np.sqrt(Vs))"
   ]
  },
  {
   "cell_type": "code",
   "execution_count": null,
   "metadata": {},
   "outputs": [],
   "source": [
    "np.mean(InInterval)"
   ]
  },
  {
   "cell_type": "code",
   "execution_count": null,
   "metadata": {},
   "outputs": [],
   "source": [
    "fig, ax  = plt.subplots()\n",
    "ax.plot(Csamples);"
   ]
  },
  {
   "cell_type": "code",
   "execution_count": null,
   "metadata": {},
   "outputs": [],
   "source": [
    "fig, ax  = plt.subplots()\n",
    "plt.hist(Csamples, color = 'blue', edgecolor = 'black',bins = int(180/5))"
   ]
  },
  {
   "cell_type": "code",
   "execution_count": null,
   "metadata": {},
   "outputs": [],
   "source": [
    "np.mean(Csamples)"
   ]
  },
  {
   "cell_type": "code",
   "execution_count": null,
   "metadata": {},
   "outputs": [],
   "source": [
    "np.std(Csamples),np.sqrt(V)"
   ]
  },
  {
   "cell_type": "markdown",
   "metadata": {},
   "source": [
    "#### Compute sensitivity matrix by finite differences of closed form solution."
   ]
  },
  {
   "cell_type": "code",
   "execution_count": null,
   "metadata": {},
   "outputs": [],
   "source": [
    "delta_C = 0.01\n",
    "X_fd =  (f(t,C_OLS+delta_C,K) - f(t,C_OLS,K))/delta_C\n",
    "V_fd = sigma_hat**2/np.dot(X_fd,X_fd)\n",
    "np.sqrt(V_fd)"
   ]
  },
  {
   "cell_type": "markdown",
   "metadata": {},
   "source": [
    "## What if we don't know the solution?\n",
    "\n",
    "$$ \\frac{d}{dt} \\begin{bmatrix} z \\\\ \\dot{z} \\end{bmatrix} = \\begin{bmatrix} \\dot{z} \\\\ -C \\dot{z} -Kz \\end{bmatrix}\\,, \\qquad \\begin{bmatrix} z \\\\ \\dot{z} \\end{bmatrix} = \\begin{bmatrix} 2 \\\\ -C \\end{bmatrix}$$"
   ]
  },
  {
   "cell_type": "code",
   "execution_count": null,
   "metadata": {},
   "outputs": [],
   "source": [
    "from scipy.integrate import odeint"
   ]
  },
  {
   "cell_type": "code",
   "execution_count": null,
   "metadata": {},
   "outputs": [],
   "source": [
    "def dU_dt(U, t, C, K):\n",
    "    # Here U is a vector such that y=U[0] and z=U[1]. This function should return [y', z']\n",
    "    return [U[1], -C*U[1] - K*U[0]]\n",
    "U0 = [2, -C]\n",
    "Us = odeint(dU_dx, U0, t, args=(C0,K))\n",
    "y_numerical = Us[:,0]"
   ]
  },
  {
   "cell_type": "code",
   "execution_count": null,
   "metadata": {},
   "outputs": [],
   "source": [
    "plt.xlabel(\"t\")\n",
    "plt.ylabel(\"z(t)\")\n",
    "plt.title(\"Damped harmonic oscillator\")\n",
    "plt.plot(t,ytrue);\n",
    "plt.plot(t,y_numerical);"
   ]
  },
  {
   "cell_type": "code",
   "execution_count": null,
   "metadata": {},
   "outputs": [],
   "source": [
    "plt.xlabel(\"t\")\n",
    "plt.ylabel(\"z(t)\")\n",
    "plt.title(\"Damped harmonic oscillator\")\n",
    "plt.plot(t,ytrue-y_numerical);\n",
    "np.sqrt(np.mean((ytrue-y_numerical)**2))"
   ]
  },
  {
   "cell_type": "code",
   "execution_count": null,
   "metadata": {},
   "outputs": [],
   "source": [
    "def SSE2(C,y):\n",
    "    wrk = odeint(dU_dt, U0, t, args=(C,K))\n",
    "    return sum( (wrk[:,0]-y)**2 )"
   ]
  },
  {
   "cell_type": "code",
   "execution_count": null,
   "metadata": {},
   "outputs": [],
   "source": [
    "C_OLS_numerical=optimize.fmin(SSE2,1,args=(y,))\n",
    "C_OLS,C_OLS_numerical"
   ]
  },
  {
   "cell_type": "code",
   "execution_count": null,
   "metadata": {},
   "outputs": [],
   "source": [
    "wrk = odeint(dU_dt, U0, t, args=(C_OLS_numerical+delta_C,K)) - odeint(dU_dx, U0, t, args=(C_OLS_numerical,K))\n",
    "X_fd2 =  wrk[:,0]/delta_C\n",
    "V_fd2 = sigma_hat**2/np.dot(X_fd2,X_fd2)\n",
    "np.sqrt(V_fd)"
   ]
  },
  {
   "cell_type": "markdown",
   "metadata": {},
   "source": [
    "## Sensitivity equations"
   ]
  },
  {
   "cell_type": "markdown",
   "metadata": {},
   "source": [
    "$$ \\frac{d}{dt} \\begin{bmatrix} z_C \\\\ \\dot{z}_C \\end{bmatrix} = \\begin{bmatrix} \\dot{z}_C \\\\ -C \\dot{z}_C -Kz_C - \\dot{z} \\end{bmatrix}\\,, \\qquad \\begin{bmatrix} z_C \\\\ \\dot{z}_C \\end{bmatrix} = \\begin{bmatrix} 0 \\\\ -1 \\end{bmatrix}$$"
   ]
  },
  {
   "cell_type": "code",
   "execution_count": null,
   "metadata": {},
   "outputs": [],
   "source": [
    "def zdot(t,C,K):\n",
    "    U0 = [2, -C]\n",
    "    wrk = odeint(dU_dt, U0, t, args=(C,K))\n",
    "    return wrk[:,1]"
   ]
  },
  {
   "cell_type": "code",
   "execution_count": null,
   "metadata": {},
   "outputs": [],
   "source": [
    "fig, ax  = plt.subplots()\n",
    "ax.plot(t,zdot(t,C,K));\n",
    "ax.plot(t,(f(t+0.001,C,K)-f(t,C,K))/0.001);"
   ]
  },
  {
   "cell_type": "code",
   "execution_count": null,
   "metadata": {},
   "outputs": [],
   "source": [
    "def dUC_dt(U, t, C, K):\n",
    "    # Here U is a vector such that y=U[0] and z=U[1]. This function should return [y', z']\n",
    "    dt = 0.01                 \n",
    "    return [U[1], -C*U[1] - K*U[0] - (f(t+dt,C,K)-f(t,C,K))/dt]\n",
    "#    return [U[1], -C*U[1] - K*U[0] - zdot(t,C,K)]\n",
    "\n",
    "UC0 = [0, -1]\n",
    "wrk = odeint(dUC_dt, UC0, t, args=(C_OLS,K))\n",
    "Xs = wrk[:,0]"
   ]
  },
  {
   "cell_type": "code",
   "execution_count": null,
   "metadata": {},
   "outputs": [],
   "source": [
    "Vs = sigma_hat**2/np.dot(Xs,Xs)\n",
    "np.sqrt(Vs)"
   ]
  },
  {
   "cell_type": "code",
   "execution_count": null,
   "metadata": {},
   "outputs": [],
   "source": [
    "fig, ax  = plt.subplots()\n",
    "ax.plot(X);\n",
    "ax.plot(X_fd);\n",
    "ax.plot(X_fd2);\n",
    "ax.plot(Xs);\n",
    "plt.legend(['Exact','Finite difference of exact solution','Finite difference of numerical solution','Sensitivity equation'])"
   ]
  },
  {
   "cell_type": "markdown",
   "metadata": {},
   "source": [
    "# BUG"
   ]
  },
  {
   "cell_type": "code",
   "execution_count": null,
   "metadata": {},
   "outputs": [],
   "source": []
  }
 ],
 "metadata": {
  "kernelspec": {
   "display_name": "Python 3",
   "language": "python",
   "name": "python3"
  },
  "language_info": {
   "codemirror_mode": {
    "name": "ipython",
    "version": 3
   },
   "file_extension": ".py",
   "mimetype": "text/x-python",
   "name": "python",
   "nbconvert_exporter": "python",
   "pygments_lexer": "ipython3",
   "version": "3.6.8"
  }
 },
 "nbformat": 4,
 "nbformat_minor": 2
}
