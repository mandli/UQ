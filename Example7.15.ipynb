{
 "cells": [
  {
   "cell_type": "markdown",
   "metadata": {},
   "source": [
    "__Example 7.15.__(Smith) Consider the spring model\n",
    "\n",
    "$\\ddot{z} + C\\dot{z} + Kz = 0$\n",
    "\n",
    "$z(0) = 2$, $\\dot{z}(0) = -C$\n",
    "\n",
    "with displacement observations so that\n",
    "\n",
    "$y = \\begin{bmatrix} 1 & 0 \\end{bmatrix} \\begin{bmatrix} z \\\\ \\dot{z} \\end{bmatrix} = z$.\n",
    "\n",
    "The solution is \n",
    "\n",
    "$z(t) = 2e^{-Ct/2}\\cos{\\left( \\sqrt{K-C^2/4} t\\right)}$.\n",
    "\n",
    "Suppose that $C$ is unknown. $q=C$ and $p=1$."
   ]
  },
  {
   "cell_type": "code",
   "execution_count": null,
   "metadata": {},
   "outputs": [],
   "source": [
    "%matplotlib inline\n",
    "import matplotlib.pyplot as plt\n",
    "from IPython.display import Image\n",
    "from scipy import stats\n",
    "import numpy as np"
   ]
  },
  {
   "cell_type": "code",
   "execution_count": null,
   "metadata": {},
   "outputs": [],
   "source": [
    "K = 20.5\n",
    "C0 = 1.5\n",
    "sigma = 0.1"
   ]
  },
  {
   "cell_type": "code",
   "execution_count": null,
   "metadata": {},
   "outputs": [],
   "source": [
    "def f(t,C,K):\n",
    "    # Solution at time t for parameters C and K\n",
    "    return 2*np.exp(-C*t/2)*np.cos(np.sqrt(K-C**2/4)*t)"
   ]
  },
  {
   "cell_type": "markdown",
   "metadata": {},
   "source": [
    "Generate \"observations\" $y$ and plot them"
   ]
  },
  {
   "cell_type": "code",
   "execution_count": null,
   "metadata": {},
   "outputs": [],
   "source": [
    "n = 501 #number of observations\n",
    "p = 1\n",
    "t = np.linspace(0, 5, n) #\n",
    "fig, ax  = plt.subplots()\n",
    "ax.plot(t, f(t,C0,K));\n",
    "y = f(t,C0,K) + np.random.normal(0, sigma, n)\n",
    "ax.plot(t, y,'ro',markersize=1)\n",
    "plt.xlabel('Time'),plt.ylabel('$z(t)$')\n",
    "plt.legend(['Truth','Observations $y$'])"
   ]
  },
  {
   "cell_type": "code",
   "execution_count": null,
   "metadata": {},
   "outputs": [],
   "source": [
    "#def SSE(C):\n",
    "#    return sum( (2*np.exp(-C*t/2)*np.cos(np.sqrt(K-C**2/4)*t)-data)**2 )"
   ]
  },
  {
   "cell_type": "markdown",
   "metadata": {},
   "source": [
    "Define the sum squared error function and minimize it"
   ]
  },
  {
   "cell_type": "code",
   "execution_count": null,
   "metadata": {},
   "outputs": [],
   "source": [
    "def SSE(C,y):\n",
    "    return sum( (f(t,C,K)-y)**2 )"
   ]
  },
  {
   "cell_type": "code",
   "execution_count": null,
   "metadata": {},
   "outputs": [],
   "source": [
    "from scipy import optimize\n",
    "C_OLS=optimize.fmin(SSE,1,args=(y,))\n",
    "C_OLS"
   ]
  },
  {
   "cell_type": "code",
   "execution_count": null,
   "metadata": {},
   "outputs": [],
   "source": [
    "fig, ax  = plt.subplots()\n",
    "ax.plot(t, f(t,C_OLS,K)-y,'.');\n",
    "plt.title('Residuals $\\hat\\epsilon$')"
   ]
  },
  {
   "cell_type": "code",
   "execution_count": null,
   "metadata": {},
   "outputs": [],
   "source": [
    "sigma_hat = np.sqrt(SSE(C_OLS,y)/(n-p))\n",
    "sigma_hat\n"
   ]
  },
  {
   "cell_type": "markdown",
   "metadata": {},
   "source": [
    "Closed form for the elements of the sensitivity matrix $X$.\n",
    "$$\\dfrac{\\partial y}{\\partial C} = e^{-C t/2} \\left[ \\dfrac{Ct}{\\sqrt{4K-C^2}} \\sin \\left( t \\sqrt{K - C^2/4}\\right) - t \\cos \\left( t \\sqrt{K - C^2/4}\\right) \\right]$$"
   ]
  },
  {
   "cell_type": "code",
   "execution_count": null,
   "metadata": {},
   "outputs": [],
   "source": [
    "C = C_OLS\n",
    "w = np.sqrt(K - C**2/4)\n",
    "dydC = np.exp(-C*t/2)*(C*t/np.sqrt(4*K-C**2)*np.sin(w*t)+t*np.cos(w*t))"
   ]
  },
  {
   "cell_type": "markdown",
   "metadata": {},
   "source": [
    "$V = \\sigma_C^2 = \\sigma_0^2 [ \\chi(q)^T \\chi(q) ]^{-1}$, $\\chi(q) = \\left[ \\dfrac{\\partial y}{\\partial C} (t_1,q),\\dots,\\dfrac{\\partial y}{\\partial C} (t_N,q) \\right]^T$"
   ]
  },
  {
   "cell_type": "code",
   "execution_count": null,
   "metadata": {},
   "outputs": [],
   "source": [
    "V = sigma_hat**2/np.dot(dydC,dydC)\n",
    "np.sqrt(V)"
   ]
  },
  {
   "cell_type": "markdown",
   "metadata": {},
   "source": [
    "Compute sensitivity matrix by finite differences."
   ]
  },
  {
   "cell_type": "code",
   "execution_count": null,
   "metadata": {},
   "outputs": [],
   "source": [
    "delta_C = 0.01\n",
    "X_fd =  (f(t,C_OLS+delta_C,K) - f(t,C_OLS,K))/delta_C\n",
    "V_fd = sigma_hat**2/np.dot(X_fd,X_fd)\n",
    "np.sqrt(V_fd)"
   ]
  },
  {
   "cell_type": "markdown",
   "metadata": {},
   "source": [
    "95% confidence interval is:"
   ]
  },
  {
   "cell_type": "code",
   "execution_count": null,
   "metadata": {},
   "outputs": [],
   "source": [
    "alpha = 0.05\n",
    "Interval_normal = C_OLS + stats.norm.ppf(1-alpha)*np.sqrt(V)*np.array([-1,1])\n",
    "Interval_t = C_OLS + stats.t.ppf(1-alpha,df=n-1)*np.sqrt(V)*np.array([-1,1])\n",
    "Interval_t, Interval_normal"
   ]
  },
  {
   "cell_type": "markdown",
   "metadata": {},
   "source": [
    "Note that the _interval_ is random. How often is the true value in the interval?\n",
    "If we repeat the problem (not possible in practice), we can check how often the true value is within the interval."
   ]
  },
  {
   "cell_type": "code",
   "execution_count": null,
   "metadata": {},
   "outputs": [],
   "source": [
    "mc = 1000\n",
    "Csamples = np.zeros(mc)\n",
    "InInterval = np.zeros(mc)\n",
    "for imc in range(0,mc):\n",
    "    ysample = f(t,C0,K) + np.random.normal(0, sigma, n)\n",
    "    Csamples[imc]=optimize.fmin(SSE,1.5,args=(ysample,),disp=0)\n",
    "    C = Csamples[imc]\n",
    "    sigma_hat = np.sqrt(SSE(C,ysample)/(n-p))\n",
    "    w = np.sqrt(K - C**2/4)\n",
    "    dydC = np.exp(-C*t/2)*(C*t/np.sqrt(4*K-C**2)*np.sin(w*t)+t*np.cos(w*t))\n",
    "    V = sigma_hat**2/np.dot(dydC,dydC)\n",
    "    InInterval[imc] = (C0 < C+1.96*np.sqrt(V)) & (C0 > C-1.96*np.sqrt(V))"
   ]
  },
  {
   "cell_type": "code",
   "execution_count": null,
   "metadata": {},
   "outputs": [],
   "source": [
    "np.mean(InInterval)"
   ]
  },
  {
   "cell_type": "code",
   "execution_count": null,
   "metadata": {},
   "outputs": [],
   "source": [
    "fig, ax  = plt.subplots()\n",
    "ax.plot(Csamples);"
   ]
  },
  {
   "cell_type": "code",
   "execution_count": null,
   "metadata": {},
   "outputs": [],
   "source": [
    "fig, ax  = plt.subplots()\n",
    "plt.hist(Csamples, color = 'blue', edgecolor = 'black',bins = int(180/5))"
   ]
  },
  {
   "cell_type": "code",
   "execution_count": null,
   "metadata": {},
   "outputs": [],
   "source": [
    "np.mean(Csamples)"
   ]
  },
  {
   "cell_type": "code",
   "execution_count": null,
   "metadata": {},
   "outputs": [],
   "source": [
    "np.std(Csamples),np.sqrt(V)"
   ]
  },
  {
   "cell_type": "code",
   "execution_count": null,
   "metadata": {},
   "outputs": [],
   "source": []
  }
 ],
 "metadata": {
  "kernelspec": {
   "display_name": "Python 3",
   "language": "python",
   "name": "python3"
  },
  "language_info": {
   "codemirror_mode": {
    "name": "ipython",
    "version": 3
   },
   "file_extension": ".py",
   "mimetype": "text/x-python",
   "name": "python",
   "nbconvert_exporter": "python",
   "pygments_lexer": "ipython3",
   "version": "3.6.7"
  }
 },
 "nbformat": 4,
 "nbformat_minor": 2
}
