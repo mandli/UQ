{
 "cells": [
  {
   "cell_type": "markdown",
   "metadata": {},
   "source": [
    "__Example 7.16.__ The boundary value problem\n",
    "\n",
    "$$ \\frac{d^2 T_s}{d x^2} = \\frac{2(a+b)}{ab} \\frac{h}{k} \\left[ T_s(x) - T_{\\text{amb}}\\right] $$\n",
    "$$ \\frac{dT_s}{dx}(0) = -\\frac{\\Phi}{k}\\,, \\quad \\frac{dT_s}{dx}(L) = \\frac{h}{k}\\left[ T_{\\text{amb}} - T_s(L) \\right] $$\n",
    "\n",
    "models the steady state temperature of an uninsulated rod with souce heat $\\Phi$ at $x=0$  and ambient air temperature $T_{\\text{amb}}$. \n",
    "\n",
    "The model paramters to be estimated are $q = \\left[ \\Phi , h\\right]$, where $h$ is the convective heat transfer coefficient."
   ]
  },
  {
   "cell_type": "code",
   "execution_count": 130,
   "metadata": {},
   "outputs": [],
   "source": [
    "%matplotlib inline\n",
    "import matplotlib.pyplot as plt\n",
    "from IPython.display import Image\n",
    "from scipy import *\n",
    "import numpy as np"
   ]
  },
  {
   "cell_type": "code",
   "execution_count": 131,
   "metadata": {},
   "outputs": [],
   "source": [
    "a = 0.95 #cm\n",
    "b = 0.95 #cm\n",
    "L = 70 #cm\n",
    "k = 2.37 #W/cm/C\n",
    "T_amb = 21.29 #C\n",
    "x_obs = linspace(10,66,15)\n",
    "T_obs = np.array([96.14,80.12,67.66,57.96,50.90,44.84,39.75,36.16,\n",
    "                 33.31,31.15,29.28,27.88,27.18,26.40,25.86])\n",
    "n = x_obs.size"
   ]
  },
  {
   "cell_type": "code",
   "execution_count": 132,
   "metadata": {},
   "outputs": [
    {
     "data": {
      "text/plain": [
       "Text(0,0.5,'T_obs (deg C)')"
      ]
     },
     "execution_count": 132,
     "metadata": {},
     "output_type": "execute_result"
    },
    {
     "data": {
      "image/png": "[encoded data removed]",
      "text/plain": [
       "<Figure size 432x288 with 1 Axes>"
      ]
     },
     "metadata": {
      "needs_background": "light"
     },
     "output_type": "display_data"
    }
   ],
   "source": [
    "fig, ax  = plt.subplots()\n",
    "ax.plot(x_obs, T_obs,'bo');\n",
    "plt.xlabel('x (cm)')\n",
    "plt.ylabel('T_obs (deg C)')"
   ]
  },
  {
   "cell_type": "markdown",
   "metadata": {},
   "source": [
    "The solution is is \n",
    "\n",
    "$$ y_i(q) = T_s(x_i,q) = \n",
    "    c_1(q) e^{-\\gamma x_i} + c_2(q) e^{\\gamma x_i} + T_{\\text{amb}} \\,.$$\n",
    "   \n",
    "   where\n",
    "   $ \\gamma = \\sqrt{\\dfrac{2(a+b)h}{abk}}$ and\n",
    "   \n",
    "   $$c_1(q) = -\\frac{\\Phi}{k\\gamma} \\left[ \\frac{(h+k\\gamma) e^{\\gamma L}}{(h-k\\gamma) e^{-\\gamma L} + (h+k\\gamma) e^{\\gamma L}}\\right]\\,, \\quad c_2(q) = \\frac{\\Phi}{k\\gamma} + c_1(q)\\,.$$"
   ]
  },
  {
   "cell_type": "code",
   "execution_count": 133,
   "metadata": {},
   "outputs": [],
   "source": [
    "def T(x,Phi,h):\n",
    "    gamma = sqrt(2*(a+b)*h/a/b/k)\n",
    "    f1 = (h+k*gamma)*exp(gamma*L)\n",
    "    f2 = (h-k*gamma)*exp(-gamma*L)\n",
    "    \n",
    "    c1 = -Phi/k/gamma*( f1/(f1+f2) )\n",
    "    c2 = Phi/k/gamma+c1\n",
    "    return c1*exp(-gamma*x) + c2*exp(gamma*x) + T_amb"
   ]
  },
  {
   "cell_type": "code",
   "execution_count": 134,
   "metadata": {},
   "outputs": [],
   "source": [
    "def SSE(q):\n",
    "    Phi, h = q\n",
    "    return sum((T(x_obs,Phi,h) - T_obs)**2)"
   ]
  },
  {
   "cell_type": "code",
   "execution_count": 135,
   "metadata": {},
   "outputs": [
    {
     "name": "stdout",
     "output_type": "stream",
     "text": [
      "Optimization terminated successfully.\n",
      "         Current function value: 0.747088\n",
      "         Iterations: 55\n",
      "         Function evaluations: 108\n"
     ]
    },
    {
     "data": {
      "text/plain": [
       "(-18.4148856490254, 0.0019143246539385923)"
      ]
     },
     "execution_count": 135,
     "metadata": {},
     "output_type": "execute_result"
    }
   ],
   "source": [
    "from scipy import optimize\n",
    "q_init = array([-18.4,0.01])\n",
    "q_OLS=optimize.fmin(SSE,q_init)\n",
    "Phi, h = q_OLS\n",
    "Phi, h"
   ]
  },
  {
   "cell_type": "code",
   "execution_count": 136,
   "metadata": {},
   "outputs": [
    {
     "data": {
      "text/plain": [
       "Text(0,0.5,'Residuals (deg C)')"
      ]
     },
     "execution_count": 136,
     "metadata": {},
     "output_type": "execute_result"
    },
    {
     "data": {
      "image/png": "[encoded data removed]",
      "text/plain": [
       "<Figure size 720x216 with 2 Axes>"
      ]
     },
     "metadata": {
      "needs_background": "light"
     },
     "output_type": "display_data"
    }
   ],
   "source": [
    "fig, (ax1, ax2)  = plt.subplots(1,2,figsize=(10,3))\n",
    "ax1.plot(x_obs, T_obs,'o');\n",
    "ax1.plot(x_obs, T(x_obs,Phi,h))\n",
    "ax1.set_xlabel('x (cm)')\n",
    "ax1.set_ylabel('Temperaure (deg C)')\n",
    "ax2.plot(x_obs, T_obs - T(x_obs,Phi,h),'o')\n",
    "ax2.set_xlabel('x (cm)')\n",
    "ax2.set_ylabel('Residuals (deg C)')"
   ]
  },
  {
   "cell_type": "code",
   "execution_count": 137,
   "metadata": {},
   "outputs": [
    {
     "data": {
      "text/plain": [
       "0.05746829372054907"
      ]
     },
     "execution_count": 137,
     "metadata": {},
     "output_type": "execute_result"
    }
   ],
   "source": [
    "sigma = np.std(T_obs - T(x_obs,q_OLS[0],q_OLS[1]),ddof=2)\n",
    "sigma = sqrt(sum( (T_obs - T(x_obs,q_OLS[0],q_OLS[1]))**2 )/(n-2))\n",
    "sigma**2"
   ]
  },
  {
   "cell_type": "markdown",
   "metadata": {},
   "source": [
    "($\\sigma^2$ does not agree with text.)\n",
    "\n",
    "Compute sensativity matrix by finite differences."
   ]
  },
  {
   "cell_type": "code",
   "execution_count": 138,
   "metadata": {},
   "outputs": [],
   "source": [
    "dh = 1e-10\n",
    "dPhi = 1e-4\n",
    "dTdh = (T(x_obs,Phi,h+dh) - T(x_obs,Phi,h))/dh\n",
    "dTdPhi = (T(x_obs,Phi+dPhi,h) - T(x_obs,Phi,h))/dPhi"
   ]
  },
  {
   "cell_type": "code",
   "execution_count": 139,
   "metadata": {},
   "outputs": [],
   "source": [
    "Chi = np.transpose([dTdPhi,dTdh])"
   ]
  },
  {
   "cell_type": "code",
   "execution_count": 140,
   "metadata": {},
   "outputs": [
    {
     "data": {
      "text/plain": [
       "(15, 2)"
      ]
     },
     "execution_count": 140,
     "metadata": {},
     "output_type": "execute_result"
    }
   ],
   "source": [
    "shape(Chi)"
   ]
  },
  {
   "cell_type": "code",
   "execution_count": 141,
   "metadata": {},
   "outputs": [],
   "source": [
    "XtX = np.dot(np.transpose(Chi),Chi)"
   ]
  },
  {
   "cell_type": "code",
   "execution_count": 142,
   "metadata": {},
   "outputs": [
    {
     "data": {
      "text/plain": [
       "array([[ 1.93899945e-02, -1.87351809e-06],\n",
       "       [-1.87351809e-06,  1.94042365e-10]])"
      ]
     },
     "execution_count": 142,
     "metadata": {},
     "output_type": "execute_result"
    }
   ],
   "source": [
    "Vfd = sigma**2*np.linalg.inv(XtX)\n",
    "Vfd"
   ]
  },
  {
   "cell_type": "code",
   "execution_count": 143,
   "metadata": {},
   "outputs": [
    {
     "data": {
      "text/plain": [
       "(0.13924796059739097, 1.3929908998390829e-05)"
      ]
     },
     "execution_count": 143,
     "metadata": {},
     "output_type": "execute_result"
    }
   ],
   "source": [
    "sqrt(Vfd[0,0]),sqrt(Vfd[1,1])"
   ]
  },
  {
   "cell_type": "markdown",
   "metadata": {},
   "source": [
    "$\\sigma_\\Phi$ and $\\sigma_h$"
   ]
  },
  {
   "cell_type": "markdown",
   "metadata": {},
   "source": [
    "95% confidence intervals"
   ]
  },
  {
   "cell_type": "code",
   "execution_count": 144,
   "metadata": {},
   "outputs": [
    {
     "data": {
      "text/plain": [
       "array([-18.44826693, -18.38150437])"
      ]
     },
     "execution_count": 144,
     "metadata": {},
     "output_type": "execute_result"
    }
   ],
   "source": [
    "Phi+sigma*sqrt(Vfd[0,0])*np.array([-1,1])"
   ]
  },
  {
   "cell_type": "code",
   "execution_count": 145,
   "metadata": {},
   "outputs": [
    {
     "data": {
      "text/plain": [
       "2.1603686564610127"
      ]
     },
     "execution_count": 145,
     "metadata": {},
     "output_type": "execute_result"
    }
   ],
   "source": [
    "from scipy import stats\n",
    "alpha = 0.05\n",
    "stats.t.ppf(1-alpha/2,df=n-2)"
   ]
  },
  {
   "cell_type": "code",
   "execution_count": 146,
   "metadata": {},
   "outputs": [
    {
     "data": {
      "text/plain": [
       "array([-18.11405872, -18.71571258])"
      ]
     },
     "execution_count": 146,
     "metadata": {},
     "output_type": "execute_result"
    }
   ],
   "source": [
    "Phi + sqrt(Vfd[0,0])*np.array([-1,1])*stats.t.ppf(0.025,df=n-2)"
   ]
  },
  {
   "cell_type": "code",
   "execution_count": 147,
   "metadata": {},
   "outputs": [
    {
     "data": {
      "text/plain": [
       "array([0.00194442, 0.00188423])"
      ]
     },
     "execution_count": 147,
     "metadata": {},
     "output_type": "execute_result"
    }
   ],
   "source": [
    "h+sqrt(Vfd[1,1])*np.array([-1,1])*stats.t.ppf(0.025,df=n-2)"
   ]
  },
  {
   "cell_type": "code",
   "execution_count": null,
   "metadata": {},
   "outputs": [],
   "source": []
  }
 ],
 "metadata": {
  "kernelspec": {
   "display_name": "Python 3",
   "language": "python",
   "name": "python3"
  },
  "language_info": {
   "codemirror_mode": {
    "name": "ipython",
    "version": 3
   },
   "file_extension": ".py",
   "mimetype": "text/x-python",
   "name": "python",
   "nbconvert_exporter": "python",
   "pygments_lexer": "ipython3",
   "version": "3.6.7"
  }
 },
 "nbformat": 4,
 "nbformat_minor": 2
}
