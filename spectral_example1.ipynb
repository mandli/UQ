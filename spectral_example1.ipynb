{
 "cells": [
  {
   "cell_type": "code",
   "execution_count": null,
   "metadata": {},
   "outputs": [],
   "source": [
    "%matplotlib inline\n",
    "import matplotlib.pyplot as plt\n",
    "#from IPython.display import Image\n",
    "import numpy as np"
   ]
  },
  {
   "cell_type": "markdown",
   "metadata": {},
   "source": [
    "## Scalar initial value problem (Example 10.9 in Smith)"
   ]
  },
  {
   "cell_type": "markdown",
   "metadata": {},
   "source": [
    "\n",
    "$$\\frac{du}{dt} = -a(\\omega) u$$\n",
    "\n",
    "$$u(t=0,\\omega) = b$$\n",
    "\n",
    "$$a \\sim N(a_0,\\sigma_a^2)$$"
   ]
  },
  {
   "cell_type": "markdown",
   "metadata": {},
   "source": [
    "The damping rate $a$ is random with $a_0 = 1$, $\\sigma_a = 0.25$. The initial condition is fixed and deterministic $b=b_0 = 10$. "
   ]
  },
  {
   "cell_type": "code",
   "execution_count": null,
   "metadata": {},
   "outputs": [],
   "source": [
    "a0 = 1\n",
    "sigma_a = 0.25\n",
    "b0 = 10"
   ]
  },
  {
   "cell_type": "markdown",
   "metadata": {},
   "source": [
    "The analytical solution is $$u(t) = b e^{-at}$$"
   ]
  },
  {
   "cell_type": "code",
   "execution_count": null,
   "metadata": {},
   "outputs": [],
   "source": [
    "def u(b,a,t): #Exact solution\n",
    "    return b*np.exp(-a*t)"
   ]
  },
  {
   "cell_type": "markdown",
   "metadata": {},
   "source": [
    "$$E[u(t)] = b e^{-a_0 t} e^{\\sigma_a^2 t^2/2}$$\n",
    "\n",
    "$$var[u(t)] = e^{-2a_0 t} b^2 (e^{2 \\sigma_a^2 t^2} - e^{\\sigma_a^2 t^2})$$"
   ]
  },
  {
   "cell_type": "code",
   "execution_count": null,
   "metadata": {},
   "outputs": [],
   "source": [
    "nt=100\n",
    "t = np.linspace(0, 12, nt)\n",
    "t2 = t.reshape(nt,1)\n",
    "umean_exact = b0*np.exp(-a0*t)*np.exp(sigma_a**2*t**2/2)\n",
    "uvar_exact = b0**2*np.exp(-2*a0*t)*(np.exp(2*sigma_a**2*t**2)-np.exp(sigma_a**2*t**2))"
   ]
  },
  {
   "cell_type": "code",
   "execution_count": null,
   "metadata": {},
   "outputs": [],
   "source": [
    "plt.plot(t,umean_exact,'k--',label='exact')\n",
    "plt.plot(t,umean_exact+2*np.sqrt(uvar_exact),'k--')\n",
    "plt.plot(t,umean_exact-2*np.sqrt(uvar_exact),'k--')\n",
    "plt.xlabel('Time (s)'),plt.ylabel('Displacement (m)')\n",
    "plt.legend(['Mean'])\n",
    "plt.title('2-$\\sigma$ credible intervals')\n",
    "plt.legend(loc=\"upper right\")"
   ]
  },
  {
   "cell_type": "markdown",
   "metadata": {},
   "source": [
    "## Direct simulation\n",
    "\n",
    "Sample damping rates and compute trajectories."
   ]
  },
  {
   "cell_type": "code",
   "execution_count": null,
   "metadata": {},
   "outputs": [],
   "source": [
    "plt.plot(t,u(b0,np.random.normal(a0,sigma_a,1000),t2));\n",
    "plt.xlabel('Time (s)'),plt.ylabel('Displacement (m)')"
   ]
  },
  {
   "cell_type": "markdown",
   "metadata": {},
   "source": [
    "Compute statistics (mean and starndard deviation) of the resulting trajectories."
   ]
  },
  {
   "cell_type": "code",
   "execution_count": null,
   "metadata": {},
   "outputs": [],
   "source": [
    "Nsamples = 100000\n",
    "udirect = u(b0,np.random.normal(a0,sigma_a,Nsamples),t2)\n",
    "umean = np.mean(udirect,axis=1)\n",
    "uplus = umean + 2*np.std(udirect,axis=1)\n",
    "uminus = umean - 2*np.std(udirect,axis=1)\n",
    "fig, ax  = plt.subplots()\n",
    "ax.plot(t,umean,label='simulation')\n",
    "ax.plot(t,uplus)\n",
    "ax.plot(t,uminus)\n",
    "ax.plot(t,umean_exact,'k--',label='exact')\n",
    "ax.plot(t,umean_exact+2*np.sqrt(uvar_exact),'k--')\n",
    "ax.plot(t,umean_exact-2*np.sqrt(uvar_exact),'k--')\n",
    "plt.xlabel('Time (s)'),plt.ylabel('Displacement (m)')\n",
    "plt.legend(['Mean'])\n",
    "plt.title('2-$\\sigma$ credible intervals')\n",
    "plt.legend(loc=\"upper right\")"
   ]
  },
  {
   "cell_type": "markdown",
   "metadata": {},
   "source": [
    "Note the intervals grow and become unbounded for large $t$ because some of the damping rates are negative."
   ]
  },
  {
   "cell_type": "markdown",
   "metadata": {},
   "source": [
    "## Stochastic Spectral"
   ]
  },
  {
   "cell_type": "markdown",
   "metadata": {},
   "source": [
    "We seek approximate solutions $$u^K(t,Q) = \\sum_{k=0}^K u_k(t) \\psi_k(Q)$$\n",
    "Subject to $$\\left\\langle \\frac{du^K}{dt} + a^N u^K,\\psi_i \\right\\rangle_\\rho = 0\\,, \\qquad i=0,\\dots, K$$\n",
    "Or\n",
    "$$\\left\\langle \\frac{du^K}{dt},\\psi_i \\right\\rangle_\\rho = \\left\\langle_\\rho a^N u^K,\\psi_i \\right\\rangle_\\rho \\,, \\qquad i=0,\\dots, K$$\n",
    "Or\n",
    "$$ \\int \\sum_{k=0}^K \\frac{d u_k}{dt} (t) \\psi_k(q) \\psi_i(q) \\rho_Q(q) dq = \\int a^N(q) \\sum_{k=0}^K u_k(t) \\psi_k(q) \\psi_i(q) \\rho_Q(q) dq$$\n",
    "$$ a^N(q) = \\sum_{n=0}^N a_n \\psi_n(q) = a_0 + \\sigma_a q$$"
   ]
  },
  {
   "cell_type": "markdown",
   "metadata": {},
   "source": [
    "This yields $K+1$ differential equations $$ \\frac{du_i}{dt} = \\frac{1}{\\gamma_i} \\sum_{n=0}^N \\sum_{k=0}^K a_n u_k(t) e_{ink} $$\n",
    "where $\\gamma_i = E[\\psi_i^2]$ and $e_{ink} = E[ \\psi_i \\psi_n \\psi_k]$.\n",
    "\n",
    "Or\n",
    "$$ \\frac{d\\mathbf{u}}{dt}= \\mathbf{A} \\mathbf{u} $$"
   ]
  },
  {
   "cell_type": "markdown",
   "metadata": {},
   "source": [
    "# <span style=\"color:red\"> Choose $K$</span>\n",
    "Try $K=6, 8, 12$."
   ]
  },
  {
   "cell_type": "code",
   "execution_count": null,
   "metadata": {},
   "outputs": [],
   "source": [
    "K=6"
   ]
  },
  {
   "cell_type": "code",
   "execution_count": null,
   "metadata": {},
   "outputs": [],
   "source": [
    "def e_ink(i,n,k):\n",
    "    s2 = i + n + k\n",
    "    s = (i + n + k)/2\n",
    "    if np.mod(s2,2)==1:\n",
    "        f = 0\n",
    "    elif ((s<i) | (s<n) | (s<k)):\n",
    "        f = 0\n",
    "    else:\n",
    "        f = np.math.factorial(i)*np.math.factorial(n)*np.math.factorial(k)/np.math.factorial(s-i)/np.math.factorial(s-n)/np.math.factorial(s-k)\n",
    "    return f"
   ]
  },
  {
   "cell_type": "code",
   "execution_count": null,
   "metadata": {},
   "outputs": [],
   "source": [
    "A = np.zeros(shape=(K+1,K+1))\n",
    "gamma = np.zeros(K+1)\n",
    "for i in range(K+1):\n",
    "    gamma[i] = np.math.factorial(i)\n",
    "    for k in range(K+1):\n",
    "        A[i,k] = -1/gamma[i]*(a0*e_ink(i,0,k)+sigma_a*e_ink(i,1,k))"
   ]
  },
  {
   "cell_type": "code",
   "execution_count": null,
   "metadata": {},
   "outputs": [],
   "source": [
    "plt.pcolor(A)\n",
    "plt.colorbar()"
   ]
  },
  {
   "cell_type": "code",
   "execution_count": null,
   "metadata": {},
   "outputs": [],
   "source": [
    "from scipy.integrate import odeint\n",
    "def dU_dt(U, t, A):\n",
    "    # Here U is a vector such that y=U[0] and z=U[1]. This function should return [y', z']\n",
    "    return A.dot(U)"
   ]
  },
  {
   "cell_type": "code",
   "execution_count": null,
   "metadata": {},
   "outputs": [],
   "source": [
    "U0 = np.zeros(K+1)\n",
    "U0[0] = b0\n",
    "UK = odeint(dU_dt, U0, t, args=(A,))\n",
    "UKmean = UK[:,0]\n",
    "UKvar = np.sum(gamma[1:]*UK[:,1:]**2,axis=1)"
   ]
  },
  {
   "cell_type": "code",
   "execution_count": null,
   "metadata": {},
   "outputs": [],
   "source": [
    "fig, ax  = plt.subplots()\n",
    "ax.plot(t,UKmean)\n",
    "ax.plot(t,UKmean + 2*np.sqrt(UKvar))\n",
    "ax.plot(t,UKmean - 2*np.sqrt(UKvar))\n",
    "ax.plot(t,umean_exact,'k--')\n",
    "ax.plot(t,umean_exact+2*np.sqrt(uvar_exact),'k--')\n",
    "ax.plot(t,umean_exact-2*np.sqrt(uvar_exact),'k--')"
   ]
  },
  {
   "cell_type": "markdown",
   "metadata": {},
   "source": [
    "## Discrete projection\n",
    "Also called pseudospectral.\n",
    "$$ u_k(t) = \\frac{1}{\\gamma_k} \\langle(u(t,q),\\psi_k \\rangle = \\frac{1}{\\gamma_i} \\int u(t,q)\\psi_k(q) \\rho_Q(q) dq \\approx \\frac{1}{\\gamma_i} \\sum_{r=1}^R u(t,q^r)\\psi_k(q^r) \\rho_Q(q^r) w^r$$\n",
    "Note requires solving for $u(t,q^r)$. Non-intrusive."
   ]
  },
  {
   "cell_type": "code",
   "execution_count": null,
   "metadata": {},
   "outputs": [],
   "source": [
    "from numpy.polynomial import HermiteE as H"
   ]
  },
  {
   "cell_type": "code",
   "execution_count": null,
   "metadata": {},
   "outputs": [],
   "source": [
    "qq = np.linspace(-2, 2, 100)\n",
    "for i in range(4): ax = plt.plot(qq, H.basis(i)(qq), lw=2, label=\"$H_%d$\"%i)\n",
    "plt.legend(loc=\"lower left\")"
   ]
  },
  {
   "cell_type": "markdown",
   "metadata": {},
   "source": [
    "$$u_k(t) = \\frac{1}{\\gamma_k} \\sum_{r=1}^R u(t,q^r) \\psi_k(q^r) \\rho_Q(q^r) w^r$$\n",
    "Use Gauss-Hermite quadrature points. Check normalization. They come in different flavors."
   ]
  },
  {
   "cell_type": "code",
   "execution_count": null,
   "metadata": {},
   "outputs": [],
   "source": [
    "R = 16\n",
    "q,w = np.polynomial.hermite_e.hermegauss(R)\n",
    "w = w/np.sqrt(2*np.pi)\n",
    "np.sum(w)"
   ]
  },
  {
   "cell_type": "markdown",
   "metadata": {},
   "source": [
    "$$u_k(t) = \\frac{1}{\\gamma_i} \\sum_{r=1}^R u(t,q^r)\\psi_k(q^r)  w^r$$"
   ]
  },
  {
   "cell_type": "code",
   "execution_count": null,
   "metadata": {},
   "outputs": [],
   "source": [
    "UKp = np.zeros(shape=(nt,K+1))\n",
    "for k in range(K+1):\n",
    "    UKp[:,k] = np.sum(H.basis(k)(q)*w*u(b0,a0+sigma_a*q,t2),axis=1)/gamma[k]"
   ]
  },
  {
   "cell_type": "code",
   "execution_count": null,
   "metadata": {},
   "outputs": [],
   "source": [
    "UKpmean = UKp[:,0]\n",
    "UKpvar = np.sum(gamma[1:]*UKp[:,1:]**2,axis=1)"
   ]
  },
  {
   "cell_type": "code",
   "execution_count": null,
   "metadata": {},
   "outputs": [],
   "source": [
    "fig, ax  = plt.subplots()\n",
    "ax.plot(t,UKpmean)\n",
    "ax.plot(t,UKpmean + 2*np.sqrt(UKpvar))\n",
    "ax.plot(t,UKpmean - 2*np.sqrt(UKpvar))\n",
    "ax.plot(t,umean_exact,'k--')\n",
    "ax.plot(t,umean_exact+2*np.sqrt(uvar_exact),'k--')\n",
    "ax.plot(t,umean_exact-2*np.sqrt(uvar_exact),'k--')"
   ]
  },
  {
   "cell_type": "markdown",
   "metadata": {},
   "source": [
    "## Collocation\n",
    "Find coefficients $u_k(t)$ that make $u(t,q^m) \\approx u^K(t,q^m)$, $m=1,\\dots,M$. $q^m$ are collocation points. \n",
    "\n",
    "Least-squares problem.\n",
    "\n",
    "$$  u^K(t,q^m) = \\sum_{k=0}^K u_k(t) \\psi_k(q^m) = u(t,q^m)\\,, m = 1,\\dots,M$$\n",
    "Or\n",
    "$$ \n",
    "\\begin{bmatrix} \n",
    "\\psi_0(q^1) & \\cdots & \\psi_k(q^1) \\\\\n",
    "\\vdots & & \\vdots\\\\\n",
    "\\psi_0(q^M) & \\cdots & \\psi_K(q^M)\n",
    "\\end{bmatrix}\n",
    "\\begin{bmatrix} \n",
    "u_0(t)\\\\\n",
    "\\vdots\\\\\n",
    "u_K(t)\n",
    "\\end{bmatrix} \n",
    "=\\begin{bmatrix} \n",
    "u(t,q^1)\\\\\n",
    "\\vdots\\\\\n",
    "u(t,q^M)\n",
    "\\end{bmatrix} \n",
    "$$\n",
    "\n",
    "Note rhs requires $M$ solutions, comparable to discrete projection.\n",
    "\n",
    "Let's just use the Gauss-Hermite points. (Scaling seems to work better. What is a good choice?)"
   ]
  },
  {
   "cell_type": "code",
   "execution_count": null,
   "metadata": {},
   "outputs": [],
   "source": [
    "q = q/1.2\n",
    "rhs = u(b0,a0+sigma_a*q,t2)\n",
    "rhs = np.swapaxes(rhs,0,1)\n",
    "rhs.shape"
   ]
  },
  {
   "cell_type": "code",
   "execution_count": null,
   "metadata": {},
   "outputs": [],
   "source": [
    "from numpy.polynomial.hermite_e import hermevander\n",
    "from numpy.polynomial.hermite_e import hermefit"
   ]
  },
  {
   "cell_type": "code",
   "execution_count": null,
   "metadata": {},
   "outputs": [],
   "source": [
    "UKc = hermefit(q,rhs,K)\n",
    "UKc = np.swapaxes(UKc,0,1)\n",
    "UKc.shape"
   ]
  },
  {
   "cell_type": "code",
   "execution_count": null,
   "metadata": {},
   "outputs": [],
   "source": [
    "UKcmean = UKc[:,0]\n",
    "UKcvar = np.sum(gamma[1:]*UKc[:,1:]**2,axis=1)"
   ]
  },
  {
   "cell_type": "code",
   "execution_count": null,
   "metadata": {},
   "outputs": [],
   "source": [
    "fig, ax  = plt.subplots()\n",
    "ax.plot(t,UKcmean)\n",
    "ax.plot(t,UKcmean + 2*np.sqrt(UKcvar))\n",
    "ax.plot(t,UKcmean - 2*np.sqrt(UKcvar))\n",
    "ax.plot(t,umean_exact,'k--')\n",
    "ax.plot(t,umean_exact+2*np.sqrt(uvar_exact),'k--')\n",
    "ax.plot(t,umean_exact-2*np.sqrt(uvar_exact),'k--')"
   ]
  }
 ],
 "metadata": {
  "kernelspec": {
   "display_name": "Python 3",
   "language": "python",
   "name": "python3"
  },
  "language_info": {
   "codemirror_mode": {
    "name": "ipython",
    "version": 3
   },
   "file_extension": ".py",
   "mimetype": "text/x-python",
   "name": "python",
   "nbconvert_exporter": "python",
   "pygments_lexer": "ipython3",
   "version": "3.6.8"
  }
 },
 "nbformat": 4,
 "nbformat_minor": 2
}
