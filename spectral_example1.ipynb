{
 "cells": [
  {
   "cell_type": "code",
   "execution_count": null,
   "metadata": {},
   "outputs": [],
   "source": [
    "%matplotlib inline\n",
    "import matplotlib.pyplot as plt\n",
    "#from IPython.display import Image\n",
    "from scipy import stats\n",
    "import numpy as np"
   ]
  },
  {
   "cell_type": "markdown",
   "metadata": {},
   "source": [
    "## Initial value problem---Example"
   ]
  },
  {
   "cell_type": "markdown",
   "metadata": {},
   "source": [
    "$$\\frac{du}{dt} = -a(\\omega)u$$\n",
    "$$u(t=0,\\omega) = b$$\n",
    "$$a \\sim N(a_0,\\sigma_a^2)$$\n",
    "The damping rate a is random. "
   ]
  },
  {
   "cell_type": "code",
   "execution_count": null,
   "metadata": {},
   "outputs": [],
   "source": [
    "a0 = 1\n",
    "sigma_a = 0.25\n",
    "b0 = 10"
   ]
  },
  {
   "cell_type": "markdown",
   "metadata": {},
   "source": [
    "The analytical solution is $$u(t) = b e^{-at}$$"
   ]
  },
  {
   "cell_type": "code",
   "execution_count": null,
   "metadata": {},
   "outputs": [],
   "source": [
    "def u(b,a,t): #Exact solution\n",
    "    return b*np.exp(-a*t)"
   ]
  },
  {
   "cell_type": "markdown",
   "metadata": {},
   "source": [
    "$$E[u(t)] = b e^{-a_0 t} e^{\\sigma_a^2 t^2/2}$$\n",
    "$$var[u(t)] = e^{-2a_0 t} b^2 (e^{2 \\sigma_a^2 t^2} - e^{\\sigma_a^2 t^2})$$"
   ]
  },
  {
   "cell_type": "code",
   "execution_count": null,
   "metadata": {},
   "outputs": [],
   "source": [
    "t = np.linspace(0, 12, 100)\n",
    "umean_exact = b0*np.exp(-a0*t)*np.exp(sigma_a**2*t**2/2)\n",
    "uvar_exact = b0**2*np.exp(-2*a0*t)*(np.exp(2*sigma_a**2*t**2)-np.exp(sigma_a**2*t**2))"
   ]
  },
  {
   "cell_type": "markdown",
   "metadata": {},
   "source": [
    "## Direct simulation"
   ]
  },
  {
   "cell_type": "code",
   "execution_count": null,
   "metadata": {},
   "outputs": [],
   "source": [
    "nt=100\n",
    "t2 = t.reshape(nt,1)\n",
    "fig, ax  = plt.subplots()\n",
    "ax.plot(t,u(b0,np.random.normal(a0,sigma_a,100),t2));"
   ]
  },
  {
   "cell_type": "code",
   "execution_count": null,
   "metadata": {},
   "outputs": [],
   "source": [
    "udirect = u(b0,np.random.normal(a0,sigma_a,10),t2)\n",
    "umean = np.mean(udirect,axis=1)\n",
    "uplus = umean + 2*np.std(udirect,axis=1)\n",
    "uminus = umean - 2*np.std(udirect,axis=1)\n",
    "fig, ax  = plt.subplots()\n",
    "ax.plot(t,umean)\n",
    "ax.plot(t,uplus)\n",
    "ax.plot(t,uminus)\n",
    "ax.plot(t,umean_exact,'k--')\n",
    "ax.plot(t,umean_exact+2*np.sqrt(uvar_exact),'k--')\n",
    "ax.plot(t,umean_exact-2*np.sqrt(uvar_exact),'k--')\n",
    "plt.xlabel('Time (s)'),plt.ylabel('Displacement (m)')\n",
    "plt.legend(['Mean'])\n",
    "plt.title('2-$\\sigma$ credible intervals')"
   ]
  },
  {
   "cell_type": "markdown",
   "metadata": {},
   "source": [
    "## Stochastic Spectral"
   ]
  },
  {
   "cell_type": "code",
   "execution_count": null,
   "metadata": {},
   "outputs": [],
   "source": [
    "K=8"
   ]
  },
  {
   "cell_type": "code",
   "execution_count": null,
   "metadata": {},
   "outputs": [],
   "source": [
    "def e_ink(i,n,k):\n",
    "    s2 = i + n + k\n",
    "    s = (i + n + k)/2\n",
    "    if np.mod(s2,2)==1:\n",
    "        f = 0\n",
    "    elif ((s<i) | (s<n) | (s<k)):\n",
    "        f = 0\n",
    "    else:\n",
    "        f = np.math.factorial(i)*np.math.factorial(n)*np.math.factorial(k)/np.math.factorial(s-i)/np.math.factorial(s-n)/np.math.factorial(s-k)\n",
    "    return f"
   ]
  },
  {
   "cell_type": "code",
   "execution_count": null,
   "metadata": {},
   "outputs": [],
   "source": [
    "A = np.zeros(shape=(K+1,K+1))\n",
    "gamma = np.zeros(K+1)\n",
    "for i in range(K+1):\n",
    "    gamma[i] = np.math.factorial(i)\n",
    "    for k in range(K+1):\n",
    "        A[i,k] = -1/np.math.factorial(i)*(a0*e_ink(i,0,k)+sigma_a*e_ink(i,1,k))"
   ]
  },
  {
   "cell_type": "code",
   "execution_count": null,
   "metadata": {},
   "outputs": [],
   "source": [
    "plt.pcolor(A)"
   ]
  },
  {
   "cell_type": "code",
   "execution_count": null,
   "metadata": {},
   "outputs": [],
   "source": [
    "from scipy.integrate import odeint\n",
    "def dU_dt(U, t, A):\n",
    "    # Here U is a vector such that y=U[0] and z=U[1]. This function should return [y', z']\n",
    "    return A.dot(U)"
   ]
  },
  {
   "cell_type": "code",
   "execution_count": null,
   "metadata": {},
   "outputs": [],
   "source": [
    "U0 = np.zeros(K+1)\n",
    "U0[0] = b0\n",
    "UK = odeint(dU_dt, U0, t, args=(A,))\n",
    "UKmean = UK[:,0]\n",
    "UKvar = np.sum(gamma[1:]*UK[:,1:]**2,axis=1)"
   ]
  },
  {
   "cell_type": "code",
   "execution_count": null,
   "metadata": {},
   "outputs": [],
   "source": [
    "fig, ax  = plt.subplots()\n",
    "ax.plot(t,UKmean)\n",
    "ax.plot(t,UKmean + 2*np.sqrt(UKvar))\n",
    "ax.plot(t,UKmean - 2*np.sqrt(UKvar))\n",
    "ax.plot(t,umean_exact,'k--')\n",
    "ax.plot(t,umean_exact+2*np.sqrt(uvar_exact),'k--')\n",
    "ax.plot(t,umean_exact-2*np.sqrt(uvar_exact),'k--')"
   ]
  },
  {
   "cell_type": "markdown",
   "metadata": {},
   "source": [
    "## Direct projection"
   ]
  },
  {
   "cell_type": "code",
   "execution_count": null,
   "metadata": {},
   "outputs": [],
   "source": [
    "from numpy.polynomial import HermiteE as H"
   ]
  },
  {
   "cell_type": "code",
   "execution_count": null,
   "metadata": {},
   "outputs": [],
   "source": [
    "qq = np.linspace(-2, 2, 100)\n",
    "for i in range(4): ax = plt.plot(qq, H.basis(i)(qq), lw=2, label=\"$H_%d$\"%i)\n",
    "plt.legend(loc=\"lower left\")"
   ]
  },
  {
   "cell_type": "markdown",
   "metadata": {},
   "source": [
    "$$u_k(t) = \\frac{1}{\\gamma_k} \\sum_{r=1}^R u(t,q^r) \\Psi_k(q^r) \\rho_Q(q^r) w^r$$\n",
    "Use Gauss-Hermite quadrature points"
   ]
  },
  {
   "cell_type": "code",
   "execution_count": null,
   "metadata": {},
   "outputs": [],
   "source": [
    "R = 12\n",
    "q,w = np.polynomial.hermite_e.hermegauss(R)\n",
    "w = w/np.sqrt(2*np.pi)\n",
    "np.sum(w)"
   ]
  },
  {
   "cell_type": "code",
   "execution_count": null,
   "metadata": {},
   "outputs": [],
   "source": [
    "k=0\n",
    "plt.plot(np.sum(H.basis(k)(q)*w*u(b0,a0+sigma_a*q,t2),axis=1)/gamma[k])"
   ]
  },
  {
   "cell_type": "code",
   "execution_count": null,
   "metadata": {},
   "outputs": [],
   "source": [
    "UKp = np.zeros(shape=(nt,K+1))\n",
    "for k in range(K+1):\n",
    "    UKp[:,k] = np.sum(H.basis(k)(q)*w*u(b0,a0+sigma_a*q,t2),axis=1)/gamma[k]"
   ]
  },
  {
   "cell_type": "code",
   "execution_count": null,
   "metadata": {},
   "outputs": [],
   "source": [
    "UKpmean = UKp[:,0]\n",
    "UKpvar = np.sum(gamma[1:]*UKp[:,1:]**2,axis=1)"
   ]
  },
  {
   "cell_type": "code",
   "execution_count": null,
   "metadata": {},
   "outputs": [],
   "source": [
    "fig, ax  = plt.subplots()\n",
    "ax.plot(t,UKpmean)\n",
    "ax.plot(t,UKpmean + 2*np.sqrt(UKpvar))\n",
    "ax.plot(t,UKpmean - 2*np.sqrt(UKpvar))\n",
    "ax.plot(t,umean_exact,'k--')\n",
    "ax.plot(t,umean_exact+2*np.sqrt(uvar_exact),'k--')\n",
    "ax.plot(t,umean_exact-2*np.sqrt(uvar_exact),'k--')"
   ]
  },
  {
   "cell_type": "code",
   "execution_count": null,
   "metadata": {},
   "outputs": [],
   "source": []
  },
  {
   "cell_type": "code",
   "execution_count": null,
   "metadata": {},
   "outputs": [],
   "source": []
  }
 ],
 "metadata": {
  "kernelspec": {
   "display_name": "Python 3",
   "language": "python",
   "name": "python3"
  },
  "language_info": {
   "codemirror_mode": {
    "name": "ipython",
    "version": 3
   },
   "file_extension": ".py",
   "mimetype": "text/x-python",
   "name": "python",
   "nbconvert_exporter": "python",
   "pygments_lexer": "ipython3",
   "version": "3.6.8"
  }
 },
 "nbformat": 4,
 "nbformat_minor": 2
}
