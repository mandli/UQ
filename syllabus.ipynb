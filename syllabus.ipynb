{
 "cells": [
  {
   "cell_type": "markdown",
   "metadata": {},
   "source": [
    "# Special Topics in Applied Mathematics - Uncertainty Quantification - APMA 6901 - Syllabus and Course Information\n",
    "\n",
    "## Purpose\n",
    "Welcome to your first course in numerical methods (maybe).  Numerical methods and computational science and engineering have often been said to comprise the \"third\" pillar of science if that gives you a scope for its applicability, so that's exciting.  We will cover a wide variety of topics to give you at least a taste as to the wide variety of uses these methods can have, exploring a large variety of these applications while studying each of the different topics.    "
   ]
  },
  {
   "cell_type": "markdown",
   "metadata": {},
   "source": [
    "## Goals and Scope\n",
    "Our goal in this course is that you will be able to\n",
    "\n",
    "1. **Understand** the numerical algorithms and related mathematical concepts presented including ideas like complexity, stability, and convergence for each,\n",
    "1. **Select** an appropriate method for a given problem,\n",
    "1. **Implement** the selected numerical algorithm, and\n",
    "1. **Test** and debug the numerical implementation."
   ]
  },
  {
   "cell_type": "markdown",
   "metadata": {},
   "source": [
    "## Pre-requisites\n",
    "The following subjects will be used extensively so it is best that you have had at least one course in each of the following:\n",
    " - classes in calculus and vector calculus in particular,\n",
    " - a class on linear algebra,\n",
    " - a class on solving ordinary differential equations, and\n",
    " - programming experience at the level of COMS 100x (introduction to computer science and programming)\n",
    "\n",
    "#"
   ]
  },
  {
   "cell_type": "markdown",
   "metadata": {},
   "source": [
    "## Pre-requisites\n",
    "The following subjects will be used extensively so it is best that you have had at least one course in each of the following:\n",
    " - Advanced calculus\n",
    " - Linear algebra\n",
    " - ODE and PDEs\n",
    " - Programming experience, especially in Python.\n",
    " - Course in statistics and probability"
   ]
  },
  {
   "cell_type": "markdown",
   "metadata": {},
   "source": [
    "## Textbook(s)\n",
    " - Required:  None!\n",
    " - Possible useful references (non-required)\n",
    "   - [Uncertainty Quantification:  Theory, Implementation and Applications](http://bookstore.siam.org/cs12/), Ralph C. Smith, 2014.\n",
    "   - [Introduction to Uncertainty Quantification](http://www.columbia.edu/cgi-bin/cul/resolve?clio11742430), T.J. Sullivan, 2015.\n",
    "   "
   ]
  },
  {
   "cell_type": "markdown",
   "metadata": {},
   "source": [
    "## General Topic Coverage\n",
    "\n",
    "1. Introduction\n",
    "   1. Motivating examples of UQ \n",
    "   1. Establish some of the common model problems\n",
    "   1. Define notation and a brief survey of some of what’s in chapter\n",
    "1. Regression from UQ standpoint\n",
    "   1. Regularization (Bayesian)\n",
    "1. Accessing the posterior\n",
    "   1. MCMC\n",
    "1. Filtering\n",
    "   1. Data-assimilation\n",
    "   1. Uncertainty propagation\n",
    "1. Spectral Expansions\n",
    "1. Stochastic Galerkin Methods\n",
    "1. Non-Intrusive Methods\n",
    "1. Model reduction"
   ]
  },
  {
   "cell_type": "markdown",
   "metadata": {},
   "source": [
    "## Schedule"
   ]
  },
  {
   "cell_type": "markdown",
   "metadata": {},
   "source": [
    "## Course Grading"
   ]
  },
  {
   "cell_type": "markdown",
   "metadata": {},
   "source": [
    "## Contact Info"
   ]
  }
 ],
 "metadata": {
  "kernelspec": {
   "display_name": "Python 3",
   "language": "python",
   "name": "python3"
  },
  "language_info": {
   "codemirror_mode": {
    "name": "ipython",
    "version": 3
   },
   "file_extension": ".py",
   "mimetype": "text/x-python",
   "name": "python",
   "nbconvert_exporter": "python",
   "pygments_lexer": "ipython3",
   "version": "3.7.2"
  }
 },
 "nbformat": 4,
 "nbformat_minor": 2
}
