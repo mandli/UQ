{
 "cells": [
  {
   "cell_type": "markdown",
   "metadata": {},
   "source": [
    "# Special Topics in Applied Mathematics - Uncertainty Quantification - APMA 6901 - Syllabus and Course Information"
   ]
  },
  {
   "cell_type": "markdown",
   "metadata": {},
   "source": [
    "## Purpose\n",
    "\n",
    "This class is an admittedly first attempt at constructing a course on uncertainty quantification (UQ) that will provide students with the tools used in the broad field of UQ.  Broadly speaking UQ is the combination of statistical methods to modeling situations.  This might involve the use of a PDE model or something simpler.  The primary driver though is to carry along statistical/probabilistic information through a complex model.  This can by uncertainty propagation, given a probability distribution function (PDF) of an input value what is the resulting PDF of an observed value, or something more complex such as data assimilation, the act of using observed data to correct numerical simulations, or inversion for the most likely input parameters given observables and a model.  Our focus during the semester will be on understanding the tools used in the field, giving you the basis for applying them and the ability to hopefully go further."
   ]
  },
  {
   "cell_type": "markdown",
   "metadata": {},
   "source": [
    "## Pre-requisites\n",
    "The following subjects will be used extensively so it is best that you have had at least one course in each of the following:\n",
    " - Advanced calculus\n",
    " - Linear algebra\n",
    " - ODE and PDEs\n",
    " - Programming experience, especially in Python.\n",
    " - Course in statistics and probability"
   ]
  },
  {
   "cell_type": "markdown",
   "metadata": {},
   "source": [
    "## Textbook(s)\n",
    " - Required:  None!\n",
    " - Possible useful references (non-required)\n",
    "   - [Uncertainty Quantification:  Theory, Implementation and Applications](http://bookstore.siam.org/cs12/), Ralph C. Smith, 2014.\n",
    "   - [Introduction to Uncertainty Quantification](http://www.columbia.edu/cgi-bin/cul/resolve?clio11742430), T.J. Sullivan, 2015.\n",
    "   - [Spectral Methods for Uncertainty Quantification](https://clio.columbia.edu/catalog/11409591), Le Maître, O. and Knio, O., 2010."
   ]
  },
  {
   "cell_type": "markdown",
   "metadata": {},
   "source": [
    "## General Topic Coverage\n",
    "\n",
    "1. Introduction\n",
    "   1. Motivating examples of UQ \n",
    "   1. Establish some of the common model problems\n",
    "   1. Define notation and a brief survey of some of what’s in chapter\n",
    "1. Regression from UQ standpoint\n",
    "   1. Regularization (Bayesian)\n",
    "1. Accessing the posterior\n",
    "   1. MCMC\n",
    "1. Filtering\n",
    "   1. Data-assimilation\n",
    "   1. Uncertainty propagation\n",
    "1. Spectral Expansions\n",
    "1. Stochastic Galerkin Methods\n",
    "1. Non-Intrusive Methods\n",
    "1. Model reduction"
   ]
  },
  {
   "cell_type": "markdown",
   "metadata": {},
   "source": [
    "## Course Grading\n",
    "\n",
    "The course will include a number of homework problems and a final project.  It is expected that you will actively participate in class discussions and work collaboratively on homework and the project.  Specific details will be given later."
   ]
  },
  {
   "cell_type": "markdown",
   "metadata": {},
   "source": [
    "### Contact Info\n",
    "\n",
    "| Person            | Photo                                       | Email                    | Office Hours         |\n",
    "|-------------------|---------------------------------------------|--------------------------|----------------------|\n",
    "| Prof. Kyle Mandli | ![Kyle Mandli](./images/mandli_small.png)   | kyle.mandli@columbia.edu | TBA       |\n",
    "| Prof. Michael Tippett | ![Michael Tippett](./images/tippett.jpg)           | michael.tippett@columbia.edu     | TBA   |\n"
   ]
  }
 ],
 "metadata": {
  "kernelspec": {
   "display_name": "Python 3",
   "language": "python",
   "name": "python3"
  },
  "language_info": {
   "codemirror_mode": {
    "name": "ipython",
    "version": 3
   },
   "file_extension": ".py",
   "mimetype": "text/x-python",
   "name": "python",
   "nbconvert_exporter": "python",
   "pygments_lexer": "ipython3",
   "version": "3.7.2"
  }
 },
 "nbformat": 4,
 "nbformat_minor": 2
}
